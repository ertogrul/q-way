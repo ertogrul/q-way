{
 "cells": [
  {
   "cell_type": "code",
   "execution_count": 3,
   "metadata": {},
   "outputs": [
    {
     "name": "stdout",
     "output_type": "stream",
     "text": [
      "exp 0: [1.0, 0] X length = 1.0\n",
      "exp 1: [0.857421875, 0.142578125] X length = 0.71484375\n",
      "exp 2: [0.494140625, 0.505859375] X length = -0.01171875\n",
      "exp 3: [0.134765625, 0.865234375] X length = -0.73046875\n",
      "exp 4: [0, 1.0] X length = -1.0\n",
      "exp 5: [0.14453125, 0.85546875] X length = -0.7109375\n",
      "exp 6: [0.494140625, 0.505859375] X length = -0.01171875\n",
      "exp 7: [0.8427734375, 0.1572265625] X length = 0.685546875\n"
     ]
    }
   ],
   "source": [
    "# quantum_phase.py\n",
    "import numpy as np\n",
    "from qiskit import QuantumCircuit, QuantumRegister, ClassicalRegister, execute, Aer\n",
    "\n",
    "# Define the Quantum and Classical Registers\n",
    "q = QuantumRegister(1)\n",
    "c = ClassicalRegister(1)\n",
    "\n",
    "# Build the circuits\n",
    "circuits = []\n",
    "pre = QuantumCircuit(q, c)\n",
    "pre.h(q)\n",
    "pre.barrier()\n",
    "middle = QuantumCircuit(q, c)\n",
    "meas_x = QuantumCircuit(q, c)\n",
    "meas_x.barrier()\n",
    "meas_x.h(q)\n",
    "meas_x.measure(q, c)\n",
    "exp_vector = range(0,8)\n",
    "for exp_index in exp_vector:\n",
    "    circuits.append(pre + middle + meas_x)\n",
    "    middle.t(q)\n",
    "\n",
    "# Execute the circuits\n",
    "shots = 1024\n",
    "job = execute(circuits, backend = Aer.get_backend('qasm_simulator'), shots=shots, seed_simulator=8)\n",
    "result = job.result()\n",
    "\n",
    "# Print the result\n",
    "for exp_index in exp_vector:\n",
    "    data = result.get_counts(circuits[exp_index])\n",
    "    try:\n",
    "        p0 = data['0']/shots\n",
    "    except KeyError:\n",
    "        p0 = 0\n",
    "    try:\n",
    "        p1 = data['1']/shots\n",
    "    except KeyError:\n",
    "        p1 = 0\n",
    "    print('exp {}: [{}, {}] X length = {}'.format(exp_index, p0, p1, p0-p1))"
   ]
  },
  {
   "cell_type": "code",
   "execution_count": null,
   "metadata": {},
   "outputs": [],
   "source": []
  },
  {
   "cell_type": "code",
   "execution_count": null,
   "metadata": {},
   "outputs": [],
   "source": []
  }
 ],
 "metadata": {
  "kernelspec": {
   "display_name": "Python 3",
   "language": "python",
   "name": "python3"
  },
  "language_info": {
   "codemirror_mode": {
    "name": "ipython",
    "version": 3
   },
   "file_extension": ".py",
   "mimetype": "text/x-python",
   "name": "python",
   "nbconvert_exporter": "python",
   "pygments_lexer": "ipython3",
   "version": "3.7.3"
  }
 },
 "nbformat": 4,
 "nbformat_minor": 2
}
