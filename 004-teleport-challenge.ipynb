{
 "cells": [
  {
   "cell_type": "code",
   "execution_count": 1,
   "metadata": {},
   "outputs": [],
   "source": [
    "from qiskit import *"
   ]
  },
  {
   "cell_type": "code",
   "execution_count": 2,
   "metadata": {},
   "outputs": [],
   "source": [
    "circuit = QuantumCircuit(3,3)"
   ]
  },
  {
   "cell_type": "code",
   "execution_count": 3,
   "metadata": {},
   "outputs": [
    {
     "data": {
      "image/png": "[encoded data removed]",
      "text/plain": [
       "<Figure size 156.52x264.88 with 1 Axes>"
      ]
     },
     "execution_count": 3,
     "metadata": {},
     "output_type": "execute_result"
    }
   ],
   "source": [
    "%matplotlib inline\n",
    "circuit.draw(output='mpl')"
   ]
  },
  {
   "cell_type": "code",
   "execution_count": 4,
   "metadata": {},
   "outputs": [
    {
     "data": {
      "text/html": [
       "<pre style=\"word-wrap: normal;white-space: pre;background: #fff0;line-height: 1.1;font-family: &quot;Courier New&quot;,Courier,monospace\">        ┌───┐ ░ \n",
       "q_0: |0>┤ H ├─░─\n",
       "        └───┘ ░ \n",
       "q_1: |0>──────░─\n",
       "              ░ \n",
       "q_2: |0>──────░─\n",
       "              ░ \n",
       " c_0: 0 ════════\n",
       "                \n",
       " c_1: 0 ════════\n",
       "                \n",
       " c_2: 0 ════════\n",
       "                </pre>"
      ],
      "text/plain": [
       "<qiskit.visualization.text.TextDrawing at 0x1a22a4a630>"
      ]
     },
     "execution_count": 4,
     "metadata": {},
     "output_type": "execute_result"
    }
   ],
   "source": [
    "circuit.h(0)\n",
    "# cirtuit.x caused state 1 on the q0\n",
    "circuit.barrier()\n",
    "circuit.draw('mpl')\n",
    "\n"
   ]
  },
  {
   "cell_type": "code",
   "execution_count": 5,
   "metadata": {},
   "outputs": [
    {
     "data": {
      "text/plain": [
       "<qiskit.circuit.instructionset.InstructionSet at 0x1a228baba8>"
      ]
     },
     "execution_count": 5,
     "metadata": {},
     "output_type": "execute_result"
    }
   ],
   "source": [
    "# now we want to copy state from q0 to q2 using entanglement\n",
    "# to do that we first:\n",
    "# create gate H on q1 and then\n",
    "# then i am applying controlled x gate (cx) bdetween q1 and q2\n",
    "circuit.h(1)\n",
    "circuit.cx(1,2)"
   ]
  },
  {
   "cell_type": "code",
   "execution_count": 6,
   "metadata": {},
   "outputs": [
    {
     "data": {
      "text/html": [
       "<pre style=\"word-wrap: normal;white-space: pre;background: #fff0;line-height: 1.1;font-family: &quot;Courier New&quot;,Courier,monospace\">        ┌───┐ ░           \n",
       "q_0: |0>┤ H ├─░───────────\n",
       "        └───┘ ░ ┌───┐     \n",
       "q_1: |0>──────░─┤ H ├──■──\n",
       "              ░ └───┘┌─┴─┐\n",
       "q_2: |0>──────░──────┤ X ├\n",
       "              ░      └───┘\n",
       " c_0: 0 ══════════════════\n",
       "                          \n",
       " c_1: 0 ══════════════════\n",
       "                          \n",
       " c_2: 0 ══════════════════\n",
       "                          </pre>"
      ],
      "text/plain": [
       "<qiskit.visualization.text.TextDrawing at 0x1a228a54a8>"
      ]
     },
     "execution_count": 6,
     "metadata": {},
     "output_type": "execute_result"
    }
   ],
   "source": [
    "circuit.draw('mpl')"
   ]
  },
  {
   "cell_type": "code",
   "execution_count": 7,
   "metadata": {},
   "outputs": [
    {
     "data": {
      "text/html": [
       "<pre style=\"word-wrap: normal;white-space: pre;background: #fff0;line-height: 1.1;font-family: &quot;Courier New&quot;,Courier,monospace\">        ┌───┐ ░                ┌───┐\n",
       "q_0: |0>┤ H ├─░─────────────■──┤ H ├\n",
       "        └───┘ ░ ┌───┐     ┌─┴─┐└───┘\n",
       "q_1: |0>──────░─┤ H ├──■──┤ X ├─────\n",
       "              ░ └───┘┌─┴─┐└───┘     \n",
       "q_2: |0>──────░──────┤ X ├──────────\n",
       "              ░      └───┘          \n",
       " c_0: 0 ════════════════════════════\n",
       "                                    \n",
       " c_1: 0 ════════════════════════════\n",
       "                                    \n",
       " c_2: 0 ════════════════════════════\n",
       "                                    </pre>"
      ],
      "text/plain": [
       "<qiskit.visualization.text.TextDrawing at 0x1a22a506d8>"
      ]
     },
     "execution_count": 7,
     "metadata": {},
     "output_type": "execute_result"
    }
   ],
   "source": [
    "circuit.cx(0,1)\n",
    "circuit.h(0)\n",
    "circuit.draw('mpl')"
   ]
  },
  {
   "cell_type": "code",
   "execution_count": 8,
   "metadata": {},
   "outputs": [
    {
     "data": {
      "text/html": [
       "<pre style=\"word-wrap: normal;white-space: pre;background: #fff0;line-height: 1.1;font-family: &quot;Courier New&quot;,Courier,monospace\">        ┌───┐ ░                ┌───┐ ░ ┌─┐   \n",
       "q_0: |0>┤ H ├─░─────────────■──┤ H ├─░─┤M├───\n",
       "        └───┘ ░ ┌───┐     ┌─┴─┐└───┘ ░ └╥┘┌─┐\n",
       "q_1: |0>──────░─┤ H ├──■──┤ X ├──────░──╫─┤M├\n",
       "              ░ └───┘┌─┴─┐└───┘      ░  ║ └╥┘\n",
       "q_2: |0>──────░──────┤ X ├───────────░──╫──╫─\n",
       "              ░      └───┘           ░  ║  ║ \n",
       " c_0: 0 ════════════════════════════════╩══╬═\n",
       "                                           ║ \n",
       " c_1: 0 ═══════════════════════════════════╩═\n",
       "                                             \n",
       " c_2: 0 ═════════════════════════════════════\n",
       "                                             </pre>"
      ],
      "text/plain": [
       "<qiskit.visualization.text.TextDrawing at 0x1a2296a0b8>"
      ]
     },
     "execution_count": 8,
     "metadata": {},
     "output_type": "execute_result"
    }
   ],
   "source": [
    "circuit.barrier()\n",
    "circuit.measure([0,1],[0,1])\n",
    "# measure q0 and q1 and put results into classical bits c0 and \n",
    "\n",
    "#WHY FROM q0 to q1, not q0 to q2 ??? <--------------------------\n",
    "circuit.draw('mpl')"
   ]
  },
  {
   "cell_type": "code",
   "execution_count": 9,
   "metadata": {},
   "outputs": [
    {
     "data": {
      "text/html": [
       "<pre style=\"word-wrap: normal;white-space: pre;background: #fff0;line-height: 1.1;font-family: &quot;Courier New&quot;,Courier,monospace\">        ┌───┐ ░                ┌───┐ ░ ┌─┐    ░         \n",
       "q_0: |0>┤ H ├─░─────────────■──┤ H ├─░─┤M├────░───────■─\n",
       "        └───┘ ░ ┌───┐     ┌─┴─┐└───┘ ░ └╥┘┌─┐ ░       │ \n",
       "q_1: |0>──────░─┤ H ├──■──┤ X ├──────░──╫─┤M├─░───■───┼─\n",
       "              ░ └───┘┌─┴─┐└───┘      ░  ║ └╥┘ ░ ┌─┴─┐ │ \n",
       "q_2: |0>──────░──────┤ X ├───────────░──╫──╫──░─┤ X ├─■─\n",
       "              ░      └───┘           ░  ║  ║  ░ └───┘   \n",
       " c_0: 0 ════════════════════════════════╩══╬════════════\n",
       "                                           ║            \n",
       " c_1: 0 ═══════════════════════════════════╩════════════\n",
       "                                                        \n",
       " c_2: 0 ════════════════════════════════════════════════\n",
       "                                                        </pre>"
      ],
      "text/plain": [
       "<qiskit.visualization.text.TextDrawing at 0x1a229aac50>"
      ]
     },
     "execution_count": 9,
     "metadata": {},
     "output_type": "execute_result"
    }
   ],
   "source": [
    "circuit.barrier()\n",
    "circuit.cx(1,2)\n",
    "circuit.cz(0,2)\n",
    "circuit.draw('mpl')"
   ]
  },
  {
   "cell_type": "code",
   "execution_count": 10,
   "metadata": {},
   "outputs": [
    {
     "data": {
      "image/png": "[encoded data removed]",
      "text/plain": [
       "<Figure size 504x360 with 1 Axes>"
      ]
     },
     "execution_count": 10,
     "metadata": {},
     "output_type": "execute_result"
    }
   ],
   "source": [
    "circuit.measure(2,2)\n",
    "simulator = Aer.get_backend('qasm_simulator')\n",
    "result = execute(circuit, backend = simulator, shots = 1024).result()\n",
    "counts = result.get_counts()\n",
    "from qiskit.tools.visualization import plot_histogram\n",
    "plot_histogram(counts)\n",
    "# histogram interpretation\n",
    "# "
   ]
  },
  {
   "cell_type": "code",
   "execution_count": 11,
   "metadata": {},
   "outputs": [
    {
     "name": "stdout",
     "output_type": "stream",
     "text": [
      "{'010': 148, '001': 119, '000': 129, '101': 139, '111': 116, '100': 118, '011': 120, '110': 135}\n"
     ]
    }
   ],
   "source": [
    "print(counts)\n",
    "# print interpretation:\n",
    "# "
   ]
  },
  {
   "cell_type": "code",
   "execution_count": null,
   "metadata": {},
   "outputs": [],
   "source": []
  }
 ],
 "metadata": {
  "kernelspec": {
   "display_name": "Python 3",
   "language": "python",
   "name": "python3"
  },
  "language_info": {
   "codemirror_mode": {
    "name": "ipython",
    "version": 3
   },
   "file_extension": ".py",
   "mimetype": "text/x-python",
   "name": "python",
   "nbconvert_exporter": "python",
   "pygments_lexer": "ipython3",
   "version": "3.7.3"
  }
 },
 "nbformat": 4,
 "nbformat_minor": 2
}
