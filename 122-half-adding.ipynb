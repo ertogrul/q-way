{
 "cells": [
  {
   "cell_type": "code",
   "execution_count": 11,
   "metadata": {
    "scrolled": false
   },
   "outputs": [
    {
     "data": {
      "text/html": [
       "<pre style=\"word-wrap: normal;white-space: pre;background: #fff0;line-height: 1.1;font-family: &quot;Courier New&quot;,Courier,monospace\">        ┌───┐ ░                 ░       \n",
       "q_0: |0>┤ X ├─░────────■────■───░───────\n",
       "        ├───┤ ░        │    │   ░       \n",
       "q_1: |0>┤ X ├─░───■────┼────■───░───────\n",
       "        └───┘ ░ ┌─┴─┐┌─┴─┐  │   ░ ┌─┐   \n",
       "q_2: |0>──────░─┤ X ├┤ X ├──┼───░─┤M├───\n",
       "              ░ └───┘└───┘┌─┴─┐ ░ └╥┘┌─┐\n",
       "q_3: |0>──────░───────────┤ X ├─░──╫─┤M├\n",
       "              ░           └───┘ ░  ║ └╥┘\n",
       " c_0: 0 ═══════════════════════════╩══╬═\n",
       "                                      ║ \n",
       " c_1: 0 ══════════════════════════════╩═\n",
       "                                        </pre>"
      ],
      "text/plain": [
       "<qiskit.visualization.text.TextDrawing at 0x1a28e24390>"
      ]
     },
     "execution_count": 11,
     "metadata": {},
     "output_type": "execute_result"
    }
   ],
   "source": [
    "### calculating the rightmost number of adding two bits\n",
    "\n",
    "# from qiskit import QuantumCircuit\n",
    "from qiskit import *\n",
    "%matplotlib inline\n",
    "from qiskit.tools.visualization import plot_histogram\n",
    "\n",
    "qc = QuantumCircuit(4, 2)\n",
    "# 1 + 1\n",
    "qc.x(0)\n",
    "qc.x(1)\n",
    "\n",
    "\n",
    "qc.barrier()\n",
    "qc.cx(1,2)\n",
    "qc.cx(0,2)\n",
    "qc.ccx(0,1,3)\n",
    "qc.barrier()\n",
    "qc.measure([2,3],[0,1])\n",
    "\n",
    "qc.draw()"
   ]
  },
  {
   "cell_type": "code",
   "execution_count": 12,
   "metadata": {},
   "outputs": [
    {
     "name": "stdout",
     "output_type": "stream",
     "text": [
      "{'10': 1}\n"
     ]
    }
   ],
   "source": [
    "simulator = Aer.get_backend('qasm_simulator')\n",
    "result = execute(qc, backend = simulator, shots = 1).result()\n",
    "#print(result)\n",
    "counts = result.get_counts()\n",
    "print(counts)"
   ]
  },
  {
   "cell_type": "code",
   "execution_count": null,
   "metadata": {},
   "outputs": [],
   "source": []
  }
 ],
 "metadata": {
  "celltoolbar": "Attachments",
  "kernelspec": {
   "display_name": "Python 3",
   "language": "python",
   "name": "python3"
  },
  "language_info": {
   "codemirror_mode": {
    "name": "ipython",
    "version": 3
   },
   "file_extension": ".py",
   "mimetype": "text/x-python",
   "name": "python",
   "nbconvert_exporter": "python",
   "pygments_lexer": "ipython3",
   "version": "3.7.3"
  }
 },
 "nbformat": 4,
 "nbformat_minor": 2
}
