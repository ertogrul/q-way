{
 "cells": [
  {
   "cell_type": "code",
   "execution_count": null,
   "metadata": {},
   "outputs": [],
   "source": [
    "#208 - solving Max-Cut\n",
    "# https://en.wikipedia.org/wiki/Maximum_cut"
   ]
  },
  {
   "cell_type": "code",
   "execution_count": 2,
   "metadata": {},
   "outputs": [],
   "source": [
    "import networkx as nx\n",
    "import numpy as np\n",
    "\n",
    "from qiskit_optimization import QuadraticProgram\n",
    "from qiskit_optimization.algorithms import MinimumEigenOptimizer\n",
    "\n",
    "from qiskit import BasicAer\n",
    "from qiskit.algorithms import QAOA\n",
    "from qiskit.algorithms.optimizers import SPSA\n",
    "from matplotlib import pyplot as plt"
   ]
  },
  {
   "cell_type": "code",
   "execution_count": null,
   "metadata": {},
   "outputs": [],
   "source": [
    "# Generate a graph of 4 nodes\n",
    "n = 4\n",
    "graph = nx.Graph()\n",
    "graph.add_nodes_from(np.arange(0, n, 1))\n",
    "pos=nx.circular_layout(graph)\n",
    "nx.draw(graph,pos)\n",
    "plt.show()"
   ]
  },
  {
   "cell_type": "code",
   "execution_count": 3,
   "metadata": {},
   "outputs": [
    {
     "data": {
      "image/png": "[encoded data removed]",
      "text/plain": [
       "<Figure size 432x288 with 1 Axes>"
      ]
     },
     "metadata": {},
     "output_type": "display_data"
    }
   ],
   "source": [
    "n = 4\n",
    "graph = nx.Graph()\n",
    "graph.add_nodes_from(np.arange(0, n, 1))\n",
    "elist = [(0, 1, 1.0), (0, 2, 1.0), (0, 3, 1.0), (1, 2, 1.0), (2, 3, 1.0)]\n",
    "graph.add_weighted_edges_from(elist)\n",
    "\n",
    "pos=nx.circular_layout(graph)\n",
    "nx.draw(graph,pos)\n",
    "plt.show()"
   ]
  },
  {
   "cell_type": "code",
   "execution_count": null,
   "metadata": {},
   "outputs": [],
   "source": [
    "#graph=nx.to_networkx_graph(adj)\n",
    "#from matplotlib import pyplot as plt\n",
    "#G=nx.Graph() #define G\n",
    "pos=nx.circular_layout(graph)\n",
    "\n",
    "#G=nx.path_graph(8)\n",
    "nx.draw(graph,pos)\n",
    "#plt.savefig(\"simple_path.png\") # save as png\n",
    "plt.show() # display"
   ]
  },
  {
   "cell_type": "code",
   "execution_count": null,
   "metadata": {},
   "outputs": [],
   "source": [
    "elist = [(0, 1, 1.0), (0, 2, 1.0), (0, 3, 1.0), (1, 2, 1.0), (2, 3, 1.0)]\n",
    "graph.add_weighted_edges_from(elist)\n",
    "\n",
    "# Compute the weight matrix from the graph\n",
    "w = nx.adjacency_matrix(graph)\n",
    "\n",
    "nx.draw(graph,pos)\n",
    "plt.show() # display"
   ]
  },
  {
   "cell_type": "code",
   "execution_count": null,
   "metadata": {},
   "outputs": [],
   "source": [
    "# Formulate the problem as quadratic program\n",
    "problem = QuadraticProgram()\n",
    "_ = [problem.binary_var('x{}'.format(i)) for i in range(n)]  # create n binary variables\n",
    "linear = w.dot(np.ones(n))\n",
    "quadratic = -w\n",
    "problem.maximize(linear=linear, quadratic=quadratic)"
   ]
  },
  {
   "cell_type": "code",
   "execution_count": null,
   "metadata": {},
   "outputs": [],
   "source": [
    "# Fix node 0 to be 1 to break the symmetry of the max-cut solution\n",
    "problem.linear_constraint([1, 0, 0, 0], '==', 1)\n"
   ]
  },
  {
   "cell_type": "code",
   "execution_count": null,
   "metadata": {},
   "outputs": [],
   "source": [
    "# Run quantum algorithm QAOA on qasm simulator\n",
    "spsa = SPSA(maxiter=250)\n",
    "backend = BasicAer.get_backend('qasm_simulator')\n",
    "qaoa = QAOA(optimizer=spsa, reps=5, quantum_instance=backend)\n",
    "algorithm = MinimumEigenOptimizer(qaoa)\n",
    "result = algorithm.solve(problem)\n",
    "print(result)  # prints solution, x=[1, 0, 1, 0], the cost, fval=4"
   ]
  },
  {
   "cell_type": "code",
   "execution_count": null,
   "metadata": {},
   "outputs": [],
   "source": []
  },
  {
   "cell_type": "code",
   "execution_count": null,
   "metadata": {},
   "outputs": [],
   "source": []
  },
  {
   "cell_type": "code",
   "execution_count": null,
   "metadata": {},
   "outputs": [],
   "source": []
  }
 ],
 "metadata": {
  "kernelspec": {
   "display_name": "Python 3",
   "language": "python",
   "name": "python3"
  },
  "language_info": {
   "codemirror_mode": {
    "name": "ipython",
    "version": 3
   },
   "file_extension": ".py",
   "mimetype": "text/x-python",
   "name": "python",
   "nbconvert_exporter": "python",
   "pygments_lexer": "ipython3",
   "version": "3.7.4"
  }
 },
 "nbformat": 4,
 "nbformat_minor": 4
}
