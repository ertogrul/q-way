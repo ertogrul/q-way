{
 "cells": [
  {
   "cell_type": "code",
   "execution_count": null,
   "metadata": {},
   "outputs": [],
   "source": [
    "# ***************************\n",
    "# *** H gate applied once ***\n",
    "# ***************************"
   ]
  },
  {
   "cell_type": "code",
   "execution_count": 2,
   "metadata": {},
   "outputs": [
    {
     "name": "stdout",
     "output_type": "stream",
     "text": [
      "{'0': 528, '1': 496}\n"
     ]
    },
    {
     "data": {
      "text/html": [
       "<pre style=\"word-wrap: normal;white-space: pre;background: #fff0;line-height: 1.1;font-family: &quot;Courier New&quot;,Courier,monospace\">         ┌───┐┌─┐\n",
       "q1_0: |0>┤ H ├┤M├\n",
       "         └───┘└╥┘\n",
       " c1_0: 0 ══════╩═\n",
       "                 </pre>"
      ],
      "text/plain": [
       "<qiskit.visualization.text.TextDrawing at 0x1a23ea5828>"
      ]
     },
     "execution_count": 2,
     "metadata": {},
     "output_type": "execute_result"
    }
   ],
   "source": [
    "# 1\n",
    "# superposition_state.py\n",
    "from qiskit import QuantumCircuit, QuantumRegister, ClassicalRegister, execute, Aer\n",
    "%matplotlib inline\n",
    "from qiskit.tools.visualization import plot_histogram\n",
    "\n",
    "# Define the Quantum and Classical Registers\n",
    "q = QuantumRegister(1)\n",
    "c = ClassicalRegister(1)\n",
    "\n",
    "# Build the circuit\n",
    "superposition_state = QuantumCircuit(q, c)\n",
    "superposition_state.h(q)\n",
    "superposition_state.measure(q, c)\n",
    "\n",
    "# Execute the circuit\n",
    "job = execute(superposition_state, backend = Aer.get_backend('qasm_simulator'), shots=1024)\n",
    "result = job.result()\n",
    "\n",
    "# Print the result\n",
    "print(result.get_counts(superposition_state))\n",
    "superposition_state.draw()"
   ]
  },
  {
   "cell_type": "code",
   "execution_count": 3,
   "metadata": {},
   "outputs": [
    {
     "name": "stdout",
     "output_type": "stream",
     "text": [
      "{'0': 1024}\n"
     ]
    },
    {
     "data": {
      "text/html": [
       "<pre style=\"word-wrap: normal;white-space: pre;background: #fff0;line-height: 1.1;font-family: &quot;Courier New&quot;,Courier,monospace\">         ┌───┐ ░ ┌───┐┌─┐\n",
       "q2_0: |0>┤ H ├─░─┤ H ├┤M├\n",
       "         └───┘ ░ └───┘└╥┘\n",
       " c2_0: 0 ══════════════╩═\n",
       "                         </pre>"
      ],
      "text/plain": [
       "<qiskit.visualization.text.TextDrawing at 0x1a23e76e10>"
      ]
     },
     "execution_count": 3,
     "metadata": {},
     "output_type": "execute_result"
    }
   ],
   "source": [
    "# 2\n",
    "# ****************************\n",
    "# *** H gate applied twice ***\n",
    "# ****************************\n",
    "\n",
    "# superposition_state_xbasis.py\n",
    "\n",
    "from qiskit import QuantumCircuit, QuantumRegister, ClassicalRegister, execute, Aer\n",
    "%matplotlib inline\n",
    "from qiskit.tools.visualization import plot_histogram\n",
    "\n",
    "# Define the Quantum and Classical Registers\n",
    "q = QuantumRegister(1)\n",
    "c = ClassicalRegister(1)\n",
    "\n",
    "# Build the circuit\n",
    "superposition_state_xbasis = QuantumCircuit(q, c)\n",
    "superposition_state_xbasis.h(q)\n",
    "superposition_state_xbasis.barrier()\n",
    "superposition_state_xbasis.h(q)\n",
    "superposition_state_xbasis.measure(q, c)\n",
    "\n",
    "# Execute the circuit\n",
    "job = execute(superposition_state_xbasis, backend = Aer.get_backend('qasm_simulator'), shots=1024)\n",
    "result = job.result()\n",
    "\n",
    "# Print the result\n",
    "print(result.get_counts(superposition_state_xbasis))\n",
    "superposition_state_xbasis.draw()"
   ]
  },
  {
   "cell_type": "code",
   "execution_count": 5,
   "metadata": {},
   "outputs": [
    {
     "name": "stdout",
     "output_type": "stream",
     "text": [
      "{'0': 494, '1': 530}\n"
     ]
    },
    {
     "data": {
      "text/html": [
       "<pre style=\"word-wrap: normal;white-space: pre;background: #fff0;line-height: 1.1;font-family: &quot;Courier New&quot;,Courier,monospace\">         ┌───┐┌───┐┌─┐\n",
       "q4_0: |0>┤ X ├┤ H ├┤M├\n",
       "         └───┘└───┘└╥┘\n",
       " c4_0: 0 ═══════════╩═\n",
       "                      </pre>"
      ],
      "text/plain": [
       "<qiskit.visualization.text.TextDrawing at 0x1a23f228d0>"
      ]
     },
     "execution_count": 5,
     "metadata": {},
     "output_type": "execute_result"
    }
   ],
   "source": [
    "# 3\n",
    "# negative_superposition_state.py\n",
    "from qiskit import QuantumCircuit, QuantumRegister, ClassicalRegister, execute, Aer\n",
    "%matplotlib inline\n",
    "from qiskit.tools.visualization import plot_histogram\n",
    "\n",
    "# Define the Quantum and Classical Registers\n",
    "q = QuantumRegister(1)\n",
    "c = ClassicalRegister(1)\n",
    "\n",
    "# Build the circuit\n",
    "negative_superposition_state = QuantumCircuit(q, c)\n",
    "negative_superposition_state.x(q)\n",
    "negative_superposition_state.h(q)\n",
    "negative_superposition_state.measure(q, c)\n",
    "\n",
    "# Execute the circuit\n",
    "job = execute(negative_superposition_state, backend = Aer.get_backend('qasm_simulator'), shots=1024)\n",
    "result = job.result()\n",
    "\n",
    "# Print the result\n",
    "print(result.get_counts(negative_superposition_state))\n",
    "negative_superposition_state.draw()"
   ]
  },
  {
   "cell_type": "code",
   "execution_count": 4,
   "metadata": {},
   "outputs": [
    {
     "name": "stdout",
     "output_type": "stream",
     "text": [
      "{'1': 1024}\n"
     ]
    },
    {
     "data": {
      "text/html": [
       "<pre style=\"word-wrap: normal;white-space: pre;background: #fff0;line-height: 1.1;font-family: &quot;Courier New&quot;,Courier,monospace\">         ┌───┐┌───┐ ░ ┌───┐┌─┐\n",
       "q3_0: |0>┤ X ├┤ H ├─░─┤ H ├┤M├\n",
       "         └───┘└───┘ ░ └───┘└╥┘\n",
       " c3_0: 0 ═══════════════════╩═\n",
       "                              </pre>"
      ],
      "text/plain": [
       "<qiskit.visualization.text.TextDrawing at 0x1a23f22710>"
      ]
     },
     "execution_count": 4,
     "metadata": {},
     "output_type": "execute_result"
    }
   ],
   "source": [
    "# 4\n",
    "# negative_superposition_state_xbasis.py\n",
    "from qiskit import QuantumCircuit, QuantumRegister, ClassicalRegister, execute, Aer\n",
    "%matplotlib inline\n",
    "from qiskit.tools.visualization import plot_histogram\n",
    "\n",
    "# Define the Quantum and Classical Registers\n",
    "q = QuantumRegister(1)\n",
    "c = ClassicalRegister(1)\n",
    "\n",
    "# Build the circuit\n",
    "negative_superposition_state_xbasis = QuantumCircuit(q, c)\n",
    "negative_superposition_state_xbasis.x(q)\n",
    "negative_superposition_state_xbasis.h(q)\n",
    "negative_superposition_state_xbasis.barrier()\n",
    "negative_superposition_state_xbasis.h(q)\n",
    "negative_superposition_state_xbasis.measure(q, c)\n",
    "\n",
    "# Execute the circuit\n",
    "job = execute(negative_superposition_state_xbasis, backend = Aer.get_backend('qasm_simulator'), shots=1024)\n",
    "result = job.result()\n",
    "\n",
    "# Print the result\n",
    "print(result.get_counts(negative_superposition_state_xbasis))\n",
    "negative_superposition_state_xbasis.draw()"
   ]
  },
  {
   "cell_type": "code",
   "execution_count": null,
   "metadata": {},
   "outputs": [],
   "source": []
  }
 ],
 "metadata": {
  "kernelspec": {
   "display_name": "Python 3",
   "language": "python",
   "name": "python3"
  },
  "language_info": {
   "codemirror_mode": {
    "name": "ipython",
    "version": 3
   },
   "file_extension": ".py",
   "mimetype": "text/x-python",
   "name": "python",
   "nbconvert_exporter": "python",
   "pygments_lexer": "ipython3",
   "version": "3.7.3"
  }
 },
 "nbformat": 4,
 "nbformat_minor": 2
}
